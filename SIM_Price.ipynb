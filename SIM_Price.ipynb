{
  "nbformat": 4,
  "nbformat_minor": 0,
  "metadata": {
    "colab": {
      "provenance": [],
      "include_colab_link": true
    },
    "kernelspec": {
      "name": "python3",
      "display_name": "Python 3"
    },
    "language_info": {
      "name": "python"
    },
    "gpuClass": "standard"
  },
  "cells": [
    {
      "cell_type": "markdown",
      "metadata": {
        "id": "view-in-github",
        "colab_type": "text"
      },
      "source": [
        "<a href=\"https://colab.research.google.com/github/hieuducle/SIM-KPDL/blob/main/SIM_Price.ipynb\" target=\"_parent\"><img src=\"https://colab.research.google.com/assets/colab-badge.svg\" alt=\"Open In Colab\"/></a>"
      ]
    },
    {
      "cell_type": "code",
      "execution_count": 2,
      "metadata": {
        "id": "Rck-NmM_JO_1"
      },
      "outputs": [],
      "source": [
        "import pandas as pd\n",
        "import numpy as np"
      ]
    },
    {
      "cell_type": "code",
      "source": [
        "from google.colab import drive\n",
        "drive.mount('/content/drive')"
      ],
      "metadata": {
        "colab": {
          "base_uri": "https://localhost:8080/"
        },
        "id": "tLWsHhG9u1rx",
        "outputId": "d8d0d6f9-61d7-4b74-a250-841a820353b9"
      },
      "execution_count": 3,
      "outputs": [
        {
          "output_type": "stream",
          "name": "stdout",
          "text": [
            "Drive already mounted at /content/drive; to attempt to forcibly remount, call drive.mount(\"/content/drive\", force_remount=True).\n"
          ]
        }
      ]
    },
    {
      "cell_type": "code",
      "source": [
        "df = pd.read_csv(\"/content/drive/MyDrive/Colab Notebooks/train_dataset.csv\")"
      ],
      "metadata": {
        "id": "n3EV-mFyOlam"
      },
      "execution_count": 164,
      "outputs": []
    },
    {
      "cell_type": "code",
      "source": [
        "df"
      ],
      "metadata": {
        "colab": {
          "base_uri": "https://localhost:8080/",
          "height": 424
        },
        "id": "cBQwKdOMOrOY",
        "outputId": "aec1e669-2a18-49d0-b27e-a28c82ec7149"
      },
      "execution_count": 165,
      "outputs": [
        {
          "output_type": "execute_result",
          "data": {
            "text/plain": [
              "        price_vnd  sim_number\n",
              "0          450000   343189288\n",
              "1         3000000   888899580\n",
              "2          500000   928960006\n",
              "3         5000000   902438679\n",
              "4          450000   334307889\n",
              "...           ...         ...\n",
              "199995     450000   866161769\n",
              "199996    1000000   708124126\n",
              "199997    1000000   904755200\n",
              "199998     450000   329220204\n",
              "199999    1000000   904760321\n",
              "\n",
              "[200000 rows x 2 columns]"
            ],
            "text/html": [
              "\n",
              "  <div id=\"df-9d90d73f-6bb5-4767-b87d-b5ecdc23273c\">\n",
              "    <div class=\"colab-df-container\">\n",
              "      <div>\n",
              "<style scoped>\n",
              "    .dataframe tbody tr th:only-of-type {\n",
              "        vertical-align: middle;\n",
              "    }\n",
              "\n",
              "    .dataframe tbody tr th {\n",
              "        vertical-align: top;\n",
              "    }\n",
              "\n",
              "    .dataframe thead th {\n",
              "        text-align: right;\n",
              "    }\n",
              "</style>\n",
              "<table border=\"1\" class=\"dataframe\">\n",
              "  <thead>\n",
              "    <tr style=\"text-align: right;\">\n",
              "      <th></th>\n",
              "      <th>price_vnd</th>\n",
              "      <th>sim_number</th>\n",
              "    </tr>\n",
              "  </thead>\n",
              "  <tbody>\n",
              "    <tr>\n",
              "      <th>0</th>\n",
              "      <td>450000</td>\n",
              "      <td>343189288</td>\n",
              "    </tr>\n",
              "    <tr>\n",
              "      <th>1</th>\n",
              "      <td>3000000</td>\n",
              "      <td>888899580</td>\n",
              "    </tr>\n",
              "    <tr>\n",
              "      <th>2</th>\n",
              "      <td>500000</td>\n",
              "      <td>928960006</td>\n",
              "    </tr>\n",
              "    <tr>\n",
              "      <th>3</th>\n",
              "      <td>5000000</td>\n",
              "      <td>902438679</td>\n",
              "    </tr>\n",
              "    <tr>\n",
              "      <th>4</th>\n",
              "      <td>450000</td>\n",
              "      <td>334307889</td>\n",
              "    </tr>\n",
              "    <tr>\n",
              "      <th>...</th>\n",
              "      <td>...</td>\n",
              "      <td>...</td>\n",
              "    </tr>\n",
              "    <tr>\n",
              "      <th>199995</th>\n",
              "      <td>450000</td>\n",
              "      <td>866161769</td>\n",
              "    </tr>\n",
              "    <tr>\n",
              "      <th>199996</th>\n",
              "      <td>1000000</td>\n",
              "      <td>708124126</td>\n",
              "    </tr>\n",
              "    <tr>\n",
              "      <th>199997</th>\n",
              "      <td>1000000</td>\n",
              "      <td>904755200</td>\n",
              "    </tr>\n",
              "    <tr>\n",
              "      <th>199998</th>\n",
              "      <td>450000</td>\n",
              "      <td>329220204</td>\n",
              "    </tr>\n",
              "    <tr>\n",
              "      <th>199999</th>\n",
              "      <td>1000000</td>\n",
              "      <td>904760321</td>\n",
              "    </tr>\n",
              "  </tbody>\n",
              "</table>\n",
              "<p>200000 rows × 2 columns</p>\n",
              "</div>\n",
              "      <button class=\"colab-df-convert\" onclick=\"convertToInteractive('df-9d90d73f-6bb5-4767-b87d-b5ecdc23273c')\"\n",
              "              title=\"Convert this dataframe to an interactive table.\"\n",
              "              style=\"display:none;\">\n",
              "        \n",
              "  <svg xmlns=\"http://www.w3.org/2000/svg\" height=\"24px\"viewBox=\"0 0 24 24\"\n",
              "       width=\"24px\">\n",
              "    <path d=\"M0 0h24v24H0V0z\" fill=\"none\"/>\n",
              "    <path d=\"M18.56 5.44l.94 2.06.94-2.06 2.06-.94-2.06-.94-.94-2.06-.94 2.06-2.06.94zm-11 1L8.5 8.5l.94-2.06 2.06-.94-2.06-.94L8.5 2.5l-.94 2.06-2.06.94zm10 10l.94 2.06.94-2.06 2.06-.94-2.06-.94-.94-2.06-.94 2.06-2.06.94z\"/><path d=\"M17.41 7.96l-1.37-1.37c-.4-.4-.92-.59-1.43-.59-.52 0-1.04.2-1.43.59L10.3 9.45l-7.72 7.72c-.78.78-.78 2.05 0 2.83L4 21.41c.39.39.9.59 1.41.59.51 0 1.02-.2 1.41-.59l7.78-7.78 2.81-2.81c.8-.78.8-2.07 0-2.86zM5.41 20L4 18.59l7.72-7.72 1.47 1.35L5.41 20z\"/>\n",
              "  </svg>\n",
              "      </button>\n",
              "      \n",
              "  <style>\n",
              "    .colab-df-container {\n",
              "      display:flex;\n",
              "      flex-wrap:wrap;\n",
              "      gap: 12px;\n",
              "    }\n",
              "\n",
              "    .colab-df-convert {\n",
              "      background-color: #E8F0FE;\n",
              "      border: none;\n",
              "      border-radius: 50%;\n",
              "      cursor: pointer;\n",
              "      display: none;\n",
              "      fill: #1967D2;\n",
              "      height: 32px;\n",
              "      padding: 0 0 0 0;\n",
              "      width: 32px;\n",
              "    }\n",
              "\n",
              "    .colab-df-convert:hover {\n",
              "      background-color: #E2EBFA;\n",
              "      box-shadow: 0px 1px 2px rgba(60, 64, 67, 0.3), 0px 1px 3px 1px rgba(60, 64, 67, 0.15);\n",
              "      fill: #174EA6;\n",
              "    }\n",
              "\n",
              "    [theme=dark] .colab-df-convert {\n",
              "      background-color: #3B4455;\n",
              "      fill: #D2E3FC;\n",
              "    }\n",
              "\n",
              "    [theme=dark] .colab-df-convert:hover {\n",
              "      background-color: #434B5C;\n",
              "      box-shadow: 0px 1px 3px 1px rgba(0, 0, 0, 0.15);\n",
              "      filter: drop-shadow(0px 1px 2px rgba(0, 0, 0, 0.3));\n",
              "      fill: #FFFFFF;\n",
              "    }\n",
              "  </style>\n",
              "\n",
              "      <script>\n",
              "        const buttonEl =\n",
              "          document.querySelector('#df-9d90d73f-6bb5-4767-b87d-b5ecdc23273c button.colab-df-convert');\n",
              "        buttonEl.style.display =\n",
              "          google.colab.kernel.accessAllowed ? 'block' : 'none';\n",
              "\n",
              "        async function convertToInteractive(key) {\n",
              "          const element = document.querySelector('#df-9d90d73f-6bb5-4767-b87d-b5ecdc23273c');\n",
              "          const dataTable =\n",
              "            await google.colab.kernel.invokeFunction('convertToInteractive',\n",
              "                                                     [key], {});\n",
              "          if (!dataTable) return;\n",
              "\n",
              "          const docLinkHtml = 'Like what you see? Visit the ' +\n",
              "            '<a target=\"_blank\" href=https://colab.research.google.com/notebooks/data_table.ipynb>data table notebook</a>'\n",
              "            + ' to learn more about interactive tables.';\n",
              "          element.innerHTML = '';\n",
              "          dataTable['output_type'] = 'display_data';\n",
              "          await google.colab.output.renderOutput(dataTable, element);\n",
              "          const docLink = document.createElement('div');\n",
              "          docLink.innerHTML = docLinkHtml;\n",
              "          element.appendChild(docLink);\n",
              "        }\n",
              "      </script>\n",
              "    </div>\n",
              "  </div>\n",
              "  "
            ]
          },
          "metadata": {},
          "execution_count": 165
        }
      ]
    },
    {
      "cell_type": "code",
      "source": [
        "df.describe()"
      ],
      "metadata": {
        "colab": {
          "base_uri": "https://localhost:8080/",
          "height": 300
        },
        "id": "9HMwoqyrO2jT",
        "outputId": "9079ae51-8cb0-4dd7-9dde-28d293615dba"
      },
      "execution_count": 166,
      "outputs": [
        {
          "output_type": "execute_result",
          "data": {
            "text/plain": [
              "          price_vnd    sim_number\n",
              "count  2.000000e+05  2.000000e+05\n",
              "mean   1.395027e+07  7.304797e+08\n",
              "std    5.912997e+08  2.406479e+08\n",
              "min    9.900000e+04  3.250098e+08\n",
              "25%    5.000000e+05  3.922605e+08\n",
              "50%    1.000000e+06  8.334287e+08\n",
              "75%    5.000000e+06  9.180874e+08\n",
              "max    1.680000e+11  9.979797e+08"
            ],
            "text/html": [
              "\n",
              "  <div id=\"df-c7a08a2a-8688-48cd-af29-3efca46125e9\">\n",
              "    <div class=\"colab-df-container\">\n",
              "      <div>\n",
              "<style scoped>\n",
              "    .dataframe tbody tr th:only-of-type {\n",
              "        vertical-align: middle;\n",
              "    }\n",
              "\n",
              "    .dataframe tbody tr th {\n",
              "        vertical-align: top;\n",
              "    }\n",
              "\n",
              "    .dataframe thead th {\n",
              "        text-align: right;\n",
              "    }\n",
              "</style>\n",
              "<table border=\"1\" class=\"dataframe\">\n",
              "  <thead>\n",
              "    <tr style=\"text-align: right;\">\n",
              "      <th></th>\n",
              "      <th>price_vnd</th>\n",
              "      <th>sim_number</th>\n",
              "    </tr>\n",
              "  </thead>\n",
              "  <tbody>\n",
              "    <tr>\n",
              "      <th>count</th>\n",
              "      <td>2.000000e+05</td>\n",
              "      <td>2.000000e+05</td>\n",
              "    </tr>\n",
              "    <tr>\n",
              "      <th>mean</th>\n",
              "      <td>1.395027e+07</td>\n",
              "      <td>7.304797e+08</td>\n",
              "    </tr>\n",
              "    <tr>\n",
              "      <th>std</th>\n",
              "      <td>5.912997e+08</td>\n",
              "      <td>2.406479e+08</td>\n",
              "    </tr>\n",
              "    <tr>\n",
              "      <th>min</th>\n",
              "      <td>9.900000e+04</td>\n",
              "      <td>3.250098e+08</td>\n",
              "    </tr>\n",
              "    <tr>\n",
              "      <th>25%</th>\n",
              "      <td>5.000000e+05</td>\n",
              "      <td>3.922605e+08</td>\n",
              "    </tr>\n",
              "    <tr>\n",
              "      <th>50%</th>\n",
              "      <td>1.000000e+06</td>\n",
              "      <td>8.334287e+08</td>\n",
              "    </tr>\n",
              "    <tr>\n",
              "      <th>75%</th>\n",
              "      <td>5.000000e+06</td>\n",
              "      <td>9.180874e+08</td>\n",
              "    </tr>\n",
              "    <tr>\n",
              "      <th>max</th>\n",
              "      <td>1.680000e+11</td>\n",
              "      <td>9.979797e+08</td>\n",
              "    </tr>\n",
              "  </tbody>\n",
              "</table>\n",
              "</div>\n",
              "      <button class=\"colab-df-convert\" onclick=\"convertToInteractive('df-c7a08a2a-8688-48cd-af29-3efca46125e9')\"\n",
              "              title=\"Convert this dataframe to an interactive table.\"\n",
              "              style=\"display:none;\">\n",
              "        \n",
              "  <svg xmlns=\"http://www.w3.org/2000/svg\" height=\"24px\"viewBox=\"0 0 24 24\"\n",
              "       width=\"24px\">\n",
              "    <path d=\"M0 0h24v24H0V0z\" fill=\"none\"/>\n",
              "    <path d=\"M18.56 5.44l.94 2.06.94-2.06 2.06-.94-2.06-.94-.94-2.06-.94 2.06-2.06.94zm-11 1L8.5 8.5l.94-2.06 2.06-.94-2.06-.94L8.5 2.5l-.94 2.06-2.06.94zm10 10l.94 2.06.94-2.06 2.06-.94-2.06-.94-.94-2.06-.94 2.06-2.06.94z\"/><path d=\"M17.41 7.96l-1.37-1.37c-.4-.4-.92-.59-1.43-.59-.52 0-1.04.2-1.43.59L10.3 9.45l-7.72 7.72c-.78.78-.78 2.05 0 2.83L4 21.41c.39.39.9.59 1.41.59.51 0 1.02-.2 1.41-.59l7.78-7.78 2.81-2.81c.8-.78.8-2.07 0-2.86zM5.41 20L4 18.59l7.72-7.72 1.47 1.35L5.41 20z\"/>\n",
              "  </svg>\n",
              "      </button>\n",
              "      \n",
              "  <style>\n",
              "    .colab-df-container {\n",
              "      display:flex;\n",
              "      flex-wrap:wrap;\n",
              "      gap: 12px;\n",
              "    }\n",
              "\n",
              "    .colab-df-convert {\n",
              "      background-color: #E8F0FE;\n",
              "      border: none;\n",
              "      border-radius: 50%;\n",
              "      cursor: pointer;\n",
              "      display: none;\n",
              "      fill: #1967D2;\n",
              "      height: 32px;\n",
              "      padding: 0 0 0 0;\n",
              "      width: 32px;\n",
              "    }\n",
              "\n",
              "    .colab-df-convert:hover {\n",
              "      background-color: #E2EBFA;\n",
              "      box-shadow: 0px 1px 2px rgba(60, 64, 67, 0.3), 0px 1px 3px 1px rgba(60, 64, 67, 0.15);\n",
              "      fill: #174EA6;\n",
              "    }\n",
              "\n",
              "    [theme=dark] .colab-df-convert {\n",
              "      background-color: #3B4455;\n",
              "      fill: #D2E3FC;\n",
              "    }\n",
              "\n",
              "    [theme=dark] .colab-df-convert:hover {\n",
              "      background-color: #434B5C;\n",
              "      box-shadow: 0px 1px 3px 1px rgba(0, 0, 0, 0.15);\n",
              "      filter: drop-shadow(0px 1px 2px rgba(0, 0, 0, 0.3));\n",
              "      fill: #FFFFFF;\n",
              "    }\n",
              "  </style>\n",
              "\n",
              "      <script>\n",
              "        const buttonEl =\n",
              "          document.querySelector('#df-c7a08a2a-8688-48cd-af29-3efca46125e9 button.colab-df-convert');\n",
              "        buttonEl.style.display =\n",
              "          google.colab.kernel.accessAllowed ? 'block' : 'none';\n",
              "\n",
              "        async function convertToInteractive(key) {\n",
              "          const element = document.querySelector('#df-c7a08a2a-8688-48cd-af29-3efca46125e9');\n",
              "          const dataTable =\n",
              "            await google.colab.kernel.invokeFunction('convertToInteractive',\n",
              "                                                     [key], {});\n",
              "          if (!dataTable) return;\n",
              "\n",
              "          const docLinkHtml = 'Like what you see? Visit the ' +\n",
              "            '<a target=\"_blank\" href=https://colab.research.google.com/notebooks/data_table.ipynb>data table notebook</a>'\n",
              "            + ' to learn more about interactive tables.';\n",
              "          element.innerHTML = '';\n",
              "          dataTable['output_type'] = 'display_data';\n",
              "          await google.colab.output.renderOutput(dataTable, element);\n",
              "          const docLink = document.createElement('div');\n",
              "          docLink.innerHTML = docLinkHtml;\n",
              "          element.appendChild(docLink);\n",
              "        }\n",
              "      </script>\n",
              "    </div>\n",
              "  </div>\n",
              "  "
            ]
          },
          "metadata": {},
          "execution_count": 166
        }
      ]
    },
    {
      "cell_type": "code",
      "source": [
        "df[df[\"price_vnd\"]<10000000][\"price_vnd\"].value_counts()"
      ],
      "metadata": {
        "colab": {
          "base_uri": "https://localhost:8080/"
        },
        "id": "CILZetMMPIQ0",
        "outputId": "0a285c1c-08b4-480e-eb14-75ad5be5499b"
      },
      "execution_count": 167,
      "outputs": [
        {
          "output_type": "execute_result",
          "data": {
            "text/plain": [
              "450000     45119\n",
              "1000000    38472\n",
              "500000     30619\n",
              "3000000    29199\n",
              "5000000    21383\n",
              "399000       138\n",
              "299000        91\n",
              "99000         58\n",
              "250000        47\n",
              "119000        32\n",
              "350000        22\n",
              "199000        18\n",
              "290000         9\n",
              "390000         3\n",
              "280000         3\n",
              "400000         2\n",
              "220000         1\n",
              "Name: price_vnd, dtype: int64"
            ]
          },
          "metadata": {},
          "execution_count": 167
        }
      ]
    },
    {
      "cell_type": "code",
      "source": [
        "df[df[\"price_vnd\"]>10000000][\"price_vnd\"].value_counts()"
      ],
      "metadata": {
        "colab": {
          "base_uri": "https://localhost:8080/"
        },
        "id": "T5i1jg_DPpeG",
        "outputId": "5714050d-4ccd-47e1-8079-2b1ad2db0584"
      },
      "execution_count": 168,
      "outputs": [
        {
          "output_type": "execute_result",
          "data": {
            "text/plain": [
              "12000000     5124\n",
              "11325000     2682\n",
              "11000000     1760\n",
              "13000000     1720\n",
              "15000000     1417\n",
              "             ... \n",
              "130500000       1\n",
              "12150000        1\n",
              "80100000        1\n",
              "424000000       1\n",
              "439000000       1\n",
              "Name: price_vnd, Length: 921, dtype: int64"
            ]
          },
          "metadata": {},
          "execution_count": 168
        }
      ]
    },
    {
      "cell_type": "code",
      "source": [
        "def to_label(x):\n",
        "  #symmetric\n",
        "    sim = str(x['sim_number'])\n",
        "    def is_symmetric(s):\n",
        "        return s == s[::-1]\n",
        "\n",
        "    sim_len = len(sim)\n",
        "    symmetric_label = 3\n",
        "    stop = False\n",
        "\n",
        "    for i in range(9):\n",
        "        s_len = sim_len - i - 1\n",
        "        j = 0\n",
        "      \n",
        "        while j + s_len <= 9 and symmetric_label == 3:\n",
        "            if is_symmetric(sim[j:j+s_len]):\n",
        "                if s_len == 8:\n",
        "                    symmetric_label = 12\n",
        "                    stop = True\n",
        "                    break\n",
        "                \n",
        "                if s_len == 7:\n",
        "                    symmetric_label = 11\n",
        "                    stop = True\n",
        "                    break\n",
        "                \n",
        "                if s_len == 6:\n",
        "                    symmetric_label = 10\n",
        "                    stop = True\n",
        "                    break\n",
        "                \n",
        "                if s_len == 5:\n",
        "                    symmetric_label = 9\n",
        "                    stop = True\n",
        "                    break\n",
        "                \n",
        "                if s_len == 4:\n",
        "                    symmetric_label = 8\n",
        "                    stop = True\n",
        "                    break\n",
        "                if s_len == 3:\n",
        "                    symmetric_label = 6\n",
        "                    stop = True\n",
        "                    break\n",
        "            if stop: break\n",
        "            j = j + 1 \n",
        "   \n",
        "  # tail_number \n",
        "    tail_label = 3\n",
        "   \n",
        "    five = False\n",
        "    four = False\n",
        "    equal5 = ['00000', '11111', '22222', '33333', '44444', \n",
        "              '55555', '66666', '77777', '88888', '99999']\n",
        "    asc5 = ['01234', '12345', '23456', '34567', '45678', '56789']\n",
        "    desc5 = ['43210', '54321', '65432', '76543', '87654', '98765']\n",
        "    if str(x['sim_number'])[4:9] in equal5:\n",
        "      tail_label = 12\n",
        "      five = True\n",
        "      four = True\n",
        "\n",
        "    elif str(x['sim_number'])[4:9] in asc5:\n",
        "      tail_label = 10\n",
        "      five = True\n",
        "      four = True\n",
        "\n",
        "    elif str(x['sim_number'])[4:9] in desc5:\n",
        "      tail_label = 10\n",
        "      five = True\n",
        "      four = True\n",
        "\n",
        "\n",
        "    \n",
        "    if not five:\n",
        "      equal4 = ['0000', '1111', '2222', '3333', '4444', \n",
        "                '5555', '6666', '7777', '8888', '9999']\n",
        "      asc4 = ['0123', '1234', '2345', '3456', '4567', '5678', '6789']\n",
        "      desc4 = ['3210', '4321', '5432', '6543', '7654', '8765', '9876']\n",
        "  \n",
        "      if str(x['sim_number'])[5:9] in equal4:\n",
        "        tail_label = 11\n",
        "        four = True\n",
        "\n",
        "      elif str(x['sim_number'])[5:9] in asc4:\n",
        "        tail_label = 8\n",
        "        four = True\n",
        "\n",
        "      elif str(x['sim_number'])[5:9] in desc4:\n",
        "        tail_label = 8\n",
        "        four = True\n",
        "\n",
        "    if not four:\n",
        "      equal3 = ['000', '111', '222', '333', '444',\n",
        "                '555', '666', '777', '888', '999']\n",
        "      asc3 = ['123', '234', '345', '456', '567', '678', '789', '012']\n",
        "      desc3 = ['321', '432', '543', '654', '765', '876', '987', '210']\n",
        "    \n",
        "      if str(x['sim_number'])[6:9] in equal3:\n",
        "        tail_label = 6\n",
        "      elif str(x['sim_number'])[6:9] in asc3:\n",
        "        tail_label = 4\n",
        "      elif str(x['sim_number'])[6:9] in desc3:\n",
        "        tail_label = 4\n",
        "    \n",
        "\n",
        "  \n",
        "\n",
        "    # price\n",
        "    price_label =  tail_label\n",
        "    if x[\"price_vnd\"]<=450000:\n",
        "      price_label =  0\n",
        "    elif x[\"price_vnd\"]==500000:\n",
        "      price_label =  1\n",
        "    elif x[\"price_vnd\"]==1000000:\n",
        "      price_label =  2\n",
        "    elif x[\"price_vnd\"]==3000000:\n",
        "      price_label =  3\n",
        "    elif x[\"price_vnd\"]==5000000:\n",
        "      price_label =  4\n",
        "    elif x[\"price_vnd\"]==10000000:\n",
        "      price_label =  5\n",
        "    elif x[\"price_vnd\"] > 10000000 & x[\"price_vnd\"] <= 12000000:\n",
        "      price_label =  6\n",
        "    elif x[\"price_vnd\"] > 12000000 & x[\"price_vnd\"] <= 15000000:\n",
        "      price_label =  7\n",
        "    elif x[\"price_vnd\"] > 15000000 & x[\"price_vnd\"] <= 100000000:\n",
        "      price_label =  8\n",
        "    elif x[\"price_vnd\"] > 100000000 & x[\"price_vnd\"] <= 500000000:\n",
        "      price_label =  9\n",
        "    elif x[\"price_vnd\"] > 500000000 & x[\"price_vnd\"] <= 1000000000:\n",
        "      price_label =  10\n",
        "    elif x[\"price_vnd\"] > 1000000000 & x[\"price_vnd\"] <= 1680000000:\n",
        "      price_label =  11\n",
        "\n",
        "\n",
        "    return int((price_label + tail_label + symmetric_label) / 3)\n",
        "\n",
        "df[\"label\"] = df.apply(to_label, axis=1)\n",
        "# df.loc[len(df.index)] = [] \n",
        "  \n",
        "\n",
        "  "
      ],
      "metadata": {
        "id": "f_0ckr_1P1Q_"
      },
      "execution_count": 169,
      "outputs": []
    },
    {
      "cell_type": "code",
      "source": [
        "import random\n",
        "def create_sim():\n",
        "  list_special_5 = ['00000', '11111', '22222', '33333', '44444', '55555', '66666', '77777', \n",
        "                    '88888', '99999','01234', '12345', '23456', '34567', '45678', '56789','43210', \n",
        "                    '54321', '65432', '76543', '87654', '98765']\n",
        "\n",
        "  random_number =  random.randint(0,21)\n",
        "  s = list_special_5[random_number]\n",
        "  s_len = len(s)\n",
        "  sc = \"\"\n",
        "  num = random.randint(1,9)\n",
        "  sc += str(num)\n",
        "  while len(sc) < 4:\n",
        "    num = random.randint(0,9)\n",
        "    sc += str(num)\n",
        "  s = sc + s\n",
        "  return s\n",
        "\n",
        "num_of_sim5 = 1000\n",
        "for i in range(num_of_sim5):\n",
        "  sim_number = int(create_sim())\n",
        "  # print(sim_number)\n",
        "  label = 10\n",
        "  price = random.randint(100000000, 500000000)\n",
        "  df2 = {'price_vnd': price,'sim_number': sim_number, 'label': label}\n",
        "  df = df.append(df2, ignore_index = True)\n",
        "  \n"
      ],
      "metadata": {
        "id": "yYUutBaIPNWC"
      },
      "execution_count": 204,
      "outputs": []
    },
    {
      "cell_type": "code",
      "source": [
        "\n",
        "df"
      ],
      "metadata": {
        "colab": {
          "base_uri": "https://localhost:8080/",
          "height": 424
        },
        "id": "6LLhZW8FQIdO",
        "outputId": "900060f0-07d8-4dc3-fd1b-b9502057dcb9"
      },
      "execution_count": 205,
      "outputs": [
        {
          "output_type": "execute_result",
          "data": {
            "text/plain": [
              "        price_vnd  sim_number  label\n",
              "0          450000   343189288      3\n",
              "1         3000000   888899580      4\n",
              "2          500000   928960006      4\n",
              "3         5000000   902438679      3\n",
              "4          450000   334307889      3\n",
              "...           ...         ...    ...\n",
              "201995  268418756   845054321     10\n",
              "201996  116964810   716754321     10\n",
              "201997  113406820   992254321     10\n",
              "201998  250148154   659000000     10\n",
              "201999  257942199   281054321     10\n",
              "\n",
              "[202000 rows x 3 columns]"
            ],
            "text/html": [
              "\n",
              "  <div id=\"df-ae9a7842-e33a-4614-99bf-9fd79462f9a2\">\n",
              "    <div class=\"colab-df-container\">\n",
              "      <div>\n",
              "<style scoped>\n",
              "    .dataframe tbody tr th:only-of-type {\n",
              "        vertical-align: middle;\n",
              "    }\n",
              "\n",
              "    .dataframe tbody tr th {\n",
              "        vertical-align: top;\n",
              "    }\n",
              "\n",
              "    .dataframe thead th {\n",
              "        text-align: right;\n",
              "    }\n",
              "</style>\n",
              "<table border=\"1\" class=\"dataframe\">\n",
              "  <thead>\n",
              "    <tr style=\"text-align: right;\">\n",
              "      <th></th>\n",
              "      <th>price_vnd</th>\n",
              "      <th>sim_number</th>\n",
              "      <th>label</th>\n",
              "    </tr>\n",
              "  </thead>\n",
              "  <tbody>\n",
              "    <tr>\n",
              "      <th>0</th>\n",
              "      <td>450000</td>\n",
              "      <td>343189288</td>\n",
              "      <td>3</td>\n",
              "    </tr>\n",
              "    <tr>\n",
              "      <th>1</th>\n",
              "      <td>3000000</td>\n",
              "      <td>888899580</td>\n",
              "      <td>4</td>\n",
              "    </tr>\n",
              "    <tr>\n",
              "      <th>2</th>\n",
              "      <td>500000</td>\n",
              "      <td>928960006</td>\n",
              "      <td>4</td>\n",
              "    </tr>\n",
              "    <tr>\n",
              "      <th>3</th>\n",
              "      <td>5000000</td>\n",
              "      <td>902438679</td>\n",
              "      <td>3</td>\n",
              "    </tr>\n",
              "    <tr>\n",
              "      <th>4</th>\n",
              "      <td>450000</td>\n",
              "      <td>334307889</td>\n",
              "      <td>3</td>\n",
              "    </tr>\n",
              "    <tr>\n",
              "      <th>...</th>\n",
              "      <td>...</td>\n",
              "      <td>...</td>\n",
              "      <td>...</td>\n",
              "    </tr>\n",
              "    <tr>\n",
              "      <th>201995</th>\n",
              "      <td>268418756</td>\n",
              "      <td>845054321</td>\n",
              "      <td>10</td>\n",
              "    </tr>\n",
              "    <tr>\n",
              "      <th>201996</th>\n",
              "      <td>116964810</td>\n",
              "      <td>716754321</td>\n",
              "      <td>10</td>\n",
              "    </tr>\n",
              "    <tr>\n",
              "      <th>201997</th>\n",
              "      <td>113406820</td>\n",
              "      <td>992254321</td>\n",
              "      <td>10</td>\n",
              "    </tr>\n",
              "    <tr>\n",
              "      <th>201998</th>\n",
              "      <td>250148154</td>\n",
              "      <td>659000000</td>\n",
              "      <td>10</td>\n",
              "    </tr>\n",
              "    <tr>\n",
              "      <th>201999</th>\n",
              "      <td>257942199</td>\n",
              "      <td>281054321</td>\n",
              "      <td>10</td>\n",
              "    </tr>\n",
              "  </tbody>\n",
              "</table>\n",
              "<p>202000 rows × 3 columns</p>\n",
              "</div>\n",
              "      <button class=\"colab-df-convert\" onclick=\"convertToInteractive('df-ae9a7842-e33a-4614-99bf-9fd79462f9a2')\"\n",
              "              title=\"Convert this dataframe to an interactive table.\"\n",
              "              style=\"display:none;\">\n",
              "        \n",
              "  <svg xmlns=\"http://www.w3.org/2000/svg\" height=\"24px\"viewBox=\"0 0 24 24\"\n",
              "       width=\"24px\">\n",
              "    <path d=\"M0 0h24v24H0V0z\" fill=\"none\"/>\n",
              "    <path d=\"M18.56 5.44l.94 2.06.94-2.06 2.06-.94-2.06-.94-.94-2.06-.94 2.06-2.06.94zm-11 1L8.5 8.5l.94-2.06 2.06-.94-2.06-.94L8.5 2.5l-.94 2.06-2.06.94zm10 10l.94 2.06.94-2.06 2.06-.94-2.06-.94-.94-2.06-.94 2.06-2.06.94z\"/><path d=\"M17.41 7.96l-1.37-1.37c-.4-.4-.92-.59-1.43-.59-.52 0-1.04.2-1.43.59L10.3 9.45l-7.72 7.72c-.78.78-.78 2.05 0 2.83L4 21.41c.39.39.9.59 1.41.59.51 0 1.02-.2 1.41-.59l7.78-7.78 2.81-2.81c.8-.78.8-2.07 0-2.86zM5.41 20L4 18.59l7.72-7.72 1.47 1.35L5.41 20z\"/>\n",
              "  </svg>\n",
              "      </button>\n",
              "      \n",
              "  <style>\n",
              "    .colab-df-container {\n",
              "      display:flex;\n",
              "      flex-wrap:wrap;\n",
              "      gap: 12px;\n",
              "    }\n",
              "\n",
              "    .colab-df-convert {\n",
              "      background-color: #E8F0FE;\n",
              "      border: none;\n",
              "      border-radius: 50%;\n",
              "      cursor: pointer;\n",
              "      display: none;\n",
              "      fill: #1967D2;\n",
              "      height: 32px;\n",
              "      padding: 0 0 0 0;\n",
              "      width: 32px;\n",
              "    }\n",
              "\n",
              "    .colab-df-convert:hover {\n",
              "      background-color: #E2EBFA;\n",
              "      box-shadow: 0px 1px 2px rgba(60, 64, 67, 0.3), 0px 1px 3px 1px rgba(60, 64, 67, 0.15);\n",
              "      fill: #174EA6;\n",
              "    }\n",
              "\n",
              "    [theme=dark] .colab-df-convert {\n",
              "      background-color: #3B4455;\n",
              "      fill: #D2E3FC;\n",
              "    }\n",
              "\n",
              "    [theme=dark] .colab-df-convert:hover {\n",
              "      background-color: #434B5C;\n",
              "      box-shadow: 0px 1px 3px 1px rgba(0, 0, 0, 0.15);\n",
              "      filter: drop-shadow(0px 1px 2px rgba(0, 0, 0, 0.3));\n",
              "      fill: #FFFFFF;\n",
              "    }\n",
              "  </style>\n",
              "\n",
              "      <script>\n",
              "        const buttonEl =\n",
              "          document.querySelector('#df-ae9a7842-e33a-4614-99bf-9fd79462f9a2 button.colab-df-convert');\n",
              "        buttonEl.style.display =\n",
              "          google.colab.kernel.accessAllowed ? 'block' : 'none';\n",
              "\n",
              "        async function convertToInteractive(key) {\n",
              "          const element = document.querySelector('#df-ae9a7842-e33a-4614-99bf-9fd79462f9a2');\n",
              "          const dataTable =\n",
              "            await google.colab.kernel.invokeFunction('convertToInteractive',\n",
              "                                                     [key], {});\n",
              "          if (!dataTable) return;\n",
              "\n",
              "          const docLinkHtml = 'Like what you see? Visit the ' +\n",
              "            '<a target=\"_blank\" href=https://colab.research.google.com/notebooks/data_table.ipynb>data table notebook</a>'\n",
              "            + ' to learn more about interactive tables.';\n",
              "          element.innerHTML = '';\n",
              "          dataTable['output_type'] = 'display_data';\n",
              "          await google.colab.output.renderOutput(dataTable, element);\n",
              "          const docLink = document.createElement('div');\n",
              "          docLink.innerHTML = docLinkHtml;\n",
              "          element.appendChild(docLink);\n",
              "        }\n",
              "      </script>\n",
              "    </div>\n",
              "  </div>\n",
              "  "
            ]
          },
          "metadata": {},
          "execution_count": 205
        }
      ]
    },
    {
      "cell_type": "code",
      "source": [
        "df[\"label\"].value_counts()"
      ],
      "metadata": {
        "colab": {
          "base_uri": "https://localhost:8080/"
        },
        "id": "TaoXGAx_KsfH",
        "outputId": "bb019ae4-b7a1-4320-81a5-4f816886a16d"
      },
      "execution_count": 206,
      "outputs": [
        {
          "output_type": "execute_result",
          "data": {
            "text/plain": [
              "3     68951\n",
              "2     44471\n",
              "4     42660\n",
              "5     26800\n",
              "6     12461\n",
              "8      3324\n",
              "10     2006\n",
              "7       791\n",
              "9       536\n",
              "Name: label, dtype: int64"
            ]
          },
          "metadata": {},
          "execution_count": 206
        }
      ]
    },
    {
      "cell_type": "code",
      "source": [
        "X = []\n",
        "y = []\n",
        "\n",
        "for index, row in df.iterrows():\n",
        "  X.append([int(c) for c in str(row['sim_number'])])\n",
        "  y.append(row[\"label\"])\n",
        "\n",
        "X, y = np.array(X), np.array(y)"
      ],
      "metadata": {
        "id": "7anC_M3HQhO_"
      },
      "execution_count": 172,
      "outputs": []
    },
    {
      "cell_type": "code",
      "source": [
        "X.shape"
      ],
      "metadata": {
        "colab": {
          "base_uri": "https://localhost:8080/"
        },
        "id": "e8pcIJqKRGFE",
        "outputId": "5bcde018-e703-4fda-a642-ad7e18c0eae6"
      },
      "execution_count": 173,
      "outputs": [
        {
          "output_type": "execute_result",
          "data": {
            "text/plain": [
              "(201000, 9)"
            ]
          },
          "metadata": {},
          "execution_count": 173
        }
      ]
    },
    {
      "cell_type": "code",
      "source": [
        "y.shape"
      ],
      "metadata": {
        "colab": {
          "base_uri": "https://localhost:8080/"
        },
        "id": "D-4hUiBLRScr",
        "outputId": "227a9f1f-7f57-4d50-f803-64e8db0cb504"
      },
      "execution_count": 174,
      "outputs": [
        {
          "output_type": "execute_result",
          "data": {
            "text/plain": [
              "(201000,)"
            ]
          },
          "metadata": {},
          "execution_count": 174
        }
      ]
    },
    {
      "cell_type": "code",
      "source": [
        "# Split dữ liệu train, test\n",
        "from sklearn.model_selection import train_test_split\n",
        "X_train, X_test, y_train, y_test = train_test_split(X, y, test_size=0.1, random_state=42)"
      ],
      "metadata": {
        "id": "xw8HYLIIR66A"
      },
      "execution_count": 176,
      "outputs": []
    },
    {
      "cell_type": "code",
      "source": [
        "X_train.shape"
      ],
      "metadata": {
        "colab": {
          "base_uri": "https://localhost:8080/"
        },
        "id": "ZOyhUx_FSUUo",
        "outputId": "f7f5e701-3d2e-4008-e38c-e6b7a7b4dde0"
      },
      "execution_count": 141,
      "outputs": [
        {
          "output_type": "execute_result",
          "data": {
            "text/plain": [
              "(180900,)"
            ]
          },
          "metadata": {},
          "execution_count": 141
        }
      ]
    },
    {
      "cell_type": "code",
      "source": [
        "from tensorflow.keras.models import Sequential\n",
        "from tensorflow.keras.layers import Dense, LSTM, Dropout\n",
        "from tensorflow.keras.optimizers import Adam\n",
        "import keras\n",
        "optimizer = keras.optimizers.Adam(lr=0.001)\n",
        "\n"
      ],
      "metadata": {
        "id": "sLqC-U_tSXPZ",
        "colab": {
          "base_uri": "https://localhost:8080/"
        },
        "outputId": "45e3a4e6-8a57-4c22-ac15-199c02c9c103"
      },
      "execution_count": 177,
      "outputs": [
        {
          "output_type": "stream",
          "name": "stderr",
          "text": [
            "/usr/local/lib/python3.8/dist-packages/keras/optimizers/optimizer_v2/adam.py:110: UserWarning: The `lr` argument is deprecated, use `learning_rate` instead.\n",
            "  super(Adam, self).__init__(name, **kwargs)\n"
          ]
        }
      ]
    },
    {
      "cell_type": "code",
      "source": [
        "# The LSTM architecture\n",
        "regressor = Sequential()\n",
        "# First LSTM layer with Dropout regularisation\n",
        "regressor.add(LSTM(units=50, return_sequences=True, input_shape=(X_train.shape[1],1)))\n",
        "regressor.add(Dropout(0.2))\n",
        "# Second LSTM layer\n",
        "regressor.add(LSTM(units=50, return_sequences=True))\n",
        "regressor.add(Dropout(0.2))\n",
        "# Third LSTM layer\n",
        "regressor.add(LSTM(units=50, return_sequences=True))\n",
        "regressor.add(Dropout(0.2))\n",
        "# Fourth LSTM layer\n",
        "regressor.add(LSTM(units=50))\n",
        "regressor.add(Dropout(0.2))\n",
        "# The output layer\n",
        "regressor.add(Dense(units=1))\n",
        "# model.add(Dense(3, ))\n",
        "# Compiling the RNN\n",
        "regressor.compile(optimizer='rmsprop',loss='mean_squared_logarithmic_error')\n",
        "# regressor.compile(loss='categorical_crossentropy', optimizer=optimizer, metrics=['accuracy'])\n",
        "# Fitting to the training set\n",
        "regressor.summary()\n",
        "regressor.fit(X_train,y_train,epochs=5,batch_size=128)\n"
      ],
      "metadata": {
        "id": "-dCe-gMDSmiF",
        "colab": {
          "base_uri": "https://localhost:8080/"
        },
        "outputId": "265ba8c6-9075-4dd2-be8a-f90a08fdf4ec"
      },
      "execution_count": 179,
      "outputs": [
        {
          "output_type": "stream",
          "name": "stdout",
          "text": [
            "Model: \"sequential_20\"\n",
            "_________________________________________________________________\n",
            " Layer (type)                Output Shape              Param #   \n",
            "=================================================================\n",
            " lstm_76 (LSTM)              (None, 9, 50)             10400     \n",
            "                                                                 \n",
            " dropout_76 (Dropout)        (None, 9, 50)             0         \n",
            "                                                                 \n",
            " lstm_77 (LSTM)              (None, 9, 50)             20200     \n",
            "                                                                 \n",
            " dropout_77 (Dropout)        (None, 9, 50)             0         \n",
            "                                                                 \n",
            " lstm_78 (LSTM)              (None, 9, 50)             20200     \n",
            "                                                                 \n",
            " dropout_78 (Dropout)        (None, 9, 50)             0         \n",
            "                                                                 \n",
            " lstm_79 (LSTM)              (None, 50)                20200     \n",
            "                                                                 \n",
            " dropout_79 (Dropout)        (None, 50)                0         \n",
            "                                                                 \n",
            " dense_19 (Dense)            (None, 1)                 51        \n",
            "                                                                 \n",
            "=================================================================\n",
            "Total params: 71,051\n",
            "Trainable params: 71,051\n",
            "Non-trainable params: 0\n",
            "_________________________________________________________________\n",
            "Epoch 1/5\n",
            "1414/1414 [==============================] - 72s 45ms/step - loss: 0.0788\n",
            "Epoch 2/5\n",
            "1414/1414 [==============================] - 65s 46ms/step - loss: 0.0621\n",
            "Epoch 3/5\n",
            "1414/1414 [==============================] - 64s 45ms/step - loss: 0.0522\n",
            "Epoch 4/5\n",
            "1414/1414 [==============================] - 62s 43ms/step - loss: 0.0442\n",
            "Epoch 5/5\n",
            "1414/1414 [==============================] - 60s 42ms/step - loss: 0.0381\n"
          ]
        },
        {
          "output_type": "execute_result",
          "data": {
            "text/plain": [
              "<keras.callbacks.History at 0x7fbad7cc0c40>"
            ]
          },
          "metadata": {},
          "execution_count": 179
        }
      ]
    },
    {
      "cell_type": "code",
      "source": [
        "df_test = pd.read_csv(\"/content/drive/MyDrive/Colab Notebooks/test (1).csv\")"
      ],
      "metadata": {
        "id": "12ix_ocNUd2r"
      },
      "execution_count": 180,
      "outputs": []
    },
    {
      "cell_type": "code",
      "source": [
        "X_t = []\n",
        "for index, row in df_test.iterrows():\n",
        "  X_t.append([int(c) for c in str(row['sim_number'])])\n"
      ],
      "metadata": {
        "id": "prx_6kBV-PnL"
      },
      "execution_count": 184,
      "outputs": []
    },
    {
      "cell_type": "markdown",
      "source": [],
      "metadata": {
        "id": "u6qsdbsM2n4z"
      }
    },
    {
      "cell_type": "code",
      "source": [
        "import random\n",
        "\n",
        "\n",
        "def label_to_price(y_pred):\n",
        "  prices = []\n",
        "  for p in list(y_pred):\n",
        "    i = int (round(p[0]))\n",
        "    \n",
        "    if i == 1:\n",
        "      prices.append(random.randint(400000,450000))\n",
        "\n",
        "    elif i == 2:\n",
        "      prices.append(random.randint(450000,750000))\n",
        "\n",
        "    elif i == 3:\n",
        "      prices.append(random.randint(750000,1000000))\n",
        "\n",
        "    elif i == 4:\n",
        "      prices.append(random.randint(1000000,3000000))\n",
        "\n",
        "    elif i == 5:\n",
        "      prices.append(random.randint(3000000,5000000))\n",
        "\n",
        "    elif i == 6:\n",
        "      prices.append(random.randint(5000000,10000000))\n",
        "    \n",
        "    elif i == 7:\n",
        "      prices.append(random.randint(10000000, 12000000))\n",
        "\n",
        "    elif i == 8:\n",
        "      prices.append(random.randint(12000000, 15000000))\n",
        "\n",
        "    elif i == 9:\n",
        "      prices.append(random.randint(15000000, 100000000))\n",
        "\n",
        "    elif i == 10:\n",
        "      prices.append(random.randint(100000000, 500000000))\n",
        "\n",
        "    elif i == 11:\n",
        "      prices.append(random.randint(500000000, 1000000000))\n",
        "\n",
        "    elif i == 12:\n",
        "      prices.append(random.randint(1000000000, 1680000000))\n",
        "  return prices"
      ],
      "metadata": {
        "id": "QpWYKwtuNBk3"
      },
      "execution_count": 185,
      "outputs": []
    },
    {
      "cell_type": "code",
      "source": [
        "y_pred = regressor.predict(X_t)"
      ],
      "metadata": {
        "id": "3dw1PvaLVMWL",
        "colab": {
          "base_uri": "https://localhost:8080/"
        },
        "outputId": "6a57300b-81a0-48f2-cf5b-b62adc7f4ef8"
      },
      "execution_count": 187,
      "outputs": [
        {
          "output_type": "stream",
          "name": "stdout",
          "text": [
            "4659/4659 [==============================] - 39s 8ms/step\n"
          ]
        }
      ]
    },
    {
      "cell_type": "code",
      "source": [
        "y_pred"
      ],
      "metadata": {
        "colab": {
          "base_uri": "https://localhost:8080/"
        },
        "id": "G4gy8c30pCH8",
        "outputId": "fd6f7fec-e209-432f-c43c-ffe17de0d7a5"
      },
      "execution_count": 203,
      "outputs": [
        {
          "output_type": "execute_result",
          "data": {
            "text/plain": [
              "array([[3.392655 ],\n",
              "       [2.8230438],\n",
              "       [3.5255022],\n",
              "       ...,\n",
              "       [2.6515653],\n",
              "       [3.5605304],\n",
              "       [3.2844427]], dtype=float32)"
            ]
          },
          "metadata": {},
          "execution_count": 203
        }
      ]
    },
    {
      "cell_type": "code",
      "source": [
        "\n",
        "price_pred = label_to_price(y_pred)\n"
      ],
      "metadata": {
        "id": "50EwPmkpxBli"
      },
      "execution_count": 189,
      "outputs": []
    },
    {
      "cell_type": "code",
      "source": [
        "max(price_pred)"
      ],
      "metadata": {
        "colab": {
          "base_uri": "https://localhost:8080/"
        },
        "id": "qSN1ny-AxcTK",
        "outputId": "543efd94-6657-4d81-edd2-7a237226b654"
      },
      "execution_count": 190,
      "outputs": [
        {
          "output_type": "execute_result",
          "data": {
            "text/plain": [
              "99930664"
            ]
          },
          "metadata": {},
          "execution_count": 190
        }
      ]
    },
    {
      "cell_type": "code",
      "source": [
        "df_price = pd.DataFrame(price_pred, columns = [\"price_pred\"])\n",
        "result = pd.concat([df_test['sim_number'], df_price], axis=1, join='inner')\n",
        "display(result)\n",
        "result = pd.DataFrame(result)"
      ],
      "metadata": {
        "colab": {
          "base_uri": "https://localhost:8080/",
          "height": 424
        },
        "id": "Zjr8uV3HL12U",
        "outputId": "bc2ad3f4-03b3-4628-92b0-47b671eb866a"
      },
      "execution_count": 200,
      "outputs": [
        {
          "output_type": "display_data",
          "data": {
            "text/plain": [
              "        sim_number  price_pred\n",
              "0        776260543      977577\n",
              "1        822977488      988386\n",
              "2        707963979     2976687\n",
              "3        344134986      671301\n",
              "4        795718118      755758\n",
              "...            ...         ...\n",
              "149055   822139139      915320\n",
              "149056   922491999     7232929\n",
              "149057   332378966      985620\n",
              "149058   378492223     1332617\n",
              "149059   708048448      838211\n",
              "\n",
              "[149060 rows x 2 columns]"
            ],
            "text/html": [
              "\n",
              "  <div id=\"df-19cbc330-be59-4958-ace6-faaa515e53cd\">\n",
              "    <div class=\"colab-df-container\">\n",
              "      <div>\n",
              "<style scoped>\n",
              "    .dataframe tbody tr th:only-of-type {\n",
              "        vertical-align: middle;\n",
              "    }\n",
              "\n",
              "    .dataframe tbody tr th {\n",
              "        vertical-align: top;\n",
              "    }\n",
              "\n",
              "    .dataframe thead th {\n",
              "        text-align: right;\n",
              "    }\n",
              "</style>\n",
              "<table border=\"1\" class=\"dataframe\">\n",
              "  <thead>\n",
              "    <tr style=\"text-align: right;\">\n",
              "      <th></th>\n",
              "      <th>sim_number</th>\n",
              "      <th>price_pred</th>\n",
              "    </tr>\n",
              "  </thead>\n",
              "  <tbody>\n",
              "    <tr>\n",
              "      <th>0</th>\n",
              "      <td>776260543</td>\n",
              "      <td>977577</td>\n",
              "    </tr>\n",
              "    <tr>\n",
              "      <th>1</th>\n",
              "      <td>822977488</td>\n",
              "      <td>988386</td>\n",
              "    </tr>\n",
              "    <tr>\n",
              "      <th>2</th>\n",
              "      <td>707963979</td>\n",
              "      <td>2976687</td>\n",
              "    </tr>\n",
              "    <tr>\n",
              "      <th>3</th>\n",
              "      <td>344134986</td>\n",
              "      <td>671301</td>\n",
              "    </tr>\n",
              "    <tr>\n",
              "      <th>4</th>\n",
              "      <td>795718118</td>\n",
              "      <td>755758</td>\n",
              "    </tr>\n",
              "    <tr>\n",
              "      <th>...</th>\n",
              "      <td>...</td>\n",
              "      <td>...</td>\n",
              "    </tr>\n",
              "    <tr>\n",
              "      <th>149055</th>\n",
              "      <td>822139139</td>\n",
              "      <td>915320</td>\n",
              "    </tr>\n",
              "    <tr>\n",
              "      <th>149056</th>\n",
              "      <td>922491999</td>\n",
              "      <td>7232929</td>\n",
              "    </tr>\n",
              "    <tr>\n",
              "      <th>149057</th>\n",
              "      <td>332378966</td>\n",
              "      <td>985620</td>\n",
              "    </tr>\n",
              "    <tr>\n",
              "      <th>149058</th>\n",
              "      <td>378492223</td>\n",
              "      <td>1332617</td>\n",
              "    </tr>\n",
              "    <tr>\n",
              "      <th>149059</th>\n",
              "      <td>708048448</td>\n",
              "      <td>838211</td>\n",
              "    </tr>\n",
              "  </tbody>\n",
              "</table>\n",
              "<p>149060 rows × 2 columns</p>\n",
              "</div>\n",
              "      <button class=\"colab-df-convert\" onclick=\"convertToInteractive('df-19cbc330-be59-4958-ace6-faaa515e53cd')\"\n",
              "              title=\"Convert this dataframe to an interactive table.\"\n",
              "              style=\"display:none;\">\n",
              "        \n",
              "  <svg xmlns=\"http://www.w3.org/2000/svg\" height=\"24px\"viewBox=\"0 0 24 24\"\n",
              "       width=\"24px\">\n",
              "    <path d=\"M0 0h24v24H0V0z\" fill=\"none\"/>\n",
              "    <path d=\"M18.56 5.44l.94 2.06.94-2.06 2.06-.94-2.06-.94-.94-2.06-.94 2.06-2.06.94zm-11 1L8.5 8.5l.94-2.06 2.06-.94-2.06-.94L8.5 2.5l-.94 2.06-2.06.94zm10 10l.94 2.06.94-2.06 2.06-.94-2.06-.94-.94-2.06-.94 2.06-2.06.94z\"/><path d=\"M17.41 7.96l-1.37-1.37c-.4-.4-.92-.59-1.43-.59-.52 0-1.04.2-1.43.59L10.3 9.45l-7.72 7.72c-.78.78-.78 2.05 0 2.83L4 21.41c.39.39.9.59 1.41.59.51 0 1.02-.2 1.41-.59l7.78-7.78 2.81-2.81c.8-.78.8-2.07 0-2.86zM5.41 20L4 18.59l7.72-7.72 1.47 1.35L5.41 20z\"/>\n",
              "  </svg>\n",
              "      </button>\n",
              "      \n",
              "  <style>\n",
              "    .colab-df-container {\n",
              "      display:flex;\n",
              "      flex-wrap:wrap;\n",
              "      gap: 12px;\n",
              "    }\n",
              "\n",
              "    .colab-df-convert {\n",
              "      background-color: #E8F0FE;\n",
              "      border: none;\n",
              "      border-radius: 50%;\n",
              "      cursor: pointer;\n",
              "      display: none;\n",
              "      fill: #1967D2;\n",
              "      height: 32px;\n",
              "      padding: 0 0 0 0;\n",
              "      width: 32px;\n",
              "    }\n",
              "\n",
              "    .colab-df-convert:hover {\n",
              "      background-color: #E2EBFA;\n",
              "      box-shadow: 0px 1px 2px rgba(60, 64, 67, 0.3), 0px 1px 3px 1px rgba(60, 64, 67, 0.15);\n",
              "      fill: #174EA6;\n",
              "    }\n",
              "\n",
              "    [theme=dark] .colab-df-convert {\n",
              "      background-color: #3B4455;\n",
              "      fill: #D2E3FC;\n",
              "    }\n",
              "\n",
              "    [theme=dark] .colab-df-convert:hover {\n",
              "      background-color: #434B5C;\n",
              "      box-shadow: 0px 1px 3px 1px rgba(0, 0, 0, 0.15);\n",
              "      filter: drop-shadow(0px 1px 2px rgba(0, 0, 0, 0.3));\n",
              "      fill: #FFFFFF;\n",
              "    }\n",
              "  </style>\n",
              "\n",
              "      <script>\n",
              "        const buttonEl =\n",
              "          document.querySelector('#df-19cbc330-be59-4958-ace6-faaa515e53cd button.colab-df-convert');\n",
              "        buttonEl.style.display =\n",
              "          google.colab.kernel.accessAllowed ? 'block' : 'none';\n",
              "\n",
              "        async function convertToInteractive(key) {\n",
              "          const element = document.querySelector('#df-19cbc330-be59-4958-ace6-faaa515e53cd');\n",
              "          const dataTable =\n",
              "            await google.colab.kernel.invokeFunction('convertToInteractive',\n",
              "                                                     [key], {});\n",
              "          if (!dataTable) return;\n",
              "\n",
              "          const docLinkHtml = 'Like what you see? Visit the ' +\n",
              "            '<a target=\"_blank\" href=https://colab.research.google.com/notebooks/data_table.ipynb>data table notebook</a>'\n",
              "            + ' to learn more about interactive tables.';\n",
              "          element.innerHTML = '';\n",
              "          dataTable['output_type'] = 'display_data';\n",
              "          await google.colab.output.renderOutput(dataTable, element);\n",
              "          const docLink = document.createElement('div');\n",
              "          docLink.innerHTML = docLinkHtml;\n",
              "          element.appendChild(docLink);\n",
              "        }\n",
              "      </script>\n",
              "    </div>\n",
              "  </div>\n",
              "  "
            ]
          },
          "metadata": {}
        }
      ]
    },
    {
      "cell_type": "code",
      "source": [
        "result.describe()"
      ],
      "metadata": {
        "colab": {
          "base_uri": "https://localhost:8080/",
          "height": 300
        },
        "id": "XKcS-FjizYI0",
        "outputId": "509c6929-825d-438a-9b9d-fa36bdf348c4"
      },
      "execution_count": 201,
      "outputs": [
        {
          "output_type": "execute_result",
          "data": {
            "text/plain": [
              "         sim_number    price_pred\n",
              "count  1.490600e+05  1.490600e+05\n",
              "mean   7.293419e+08  1.889852e+06\n",
              "std    2.409656e+08  3.801616e+06\n",
              "min    3.250059e+08  4.500150e+05\n",
              "25%    3.897185e+08  7.986898e+05\n",
              "50%    8.298890e+08  9.172300e+05\n",
              "75%    9.177405e+08  1.779531e+06\n",
              "max    9.980000e+08  9.993066e+07"
            ],
            "text/html": [
              "\n",
              "  <div id=\"df-c980fef1-077b-41de-bb69-f9f0700fccb5\">\n",
              "    <div class=\"colab-df-container\">\n",
              "      <div>\n",
              "<style scoped>\n",
              "    .dataframe tbody tr th:only-of-type {\n",
              "        vertical-align: middle;\n",
              "    }\n",
              "\n",
              "    .dataframe tbody tr th {\n",
              "        vertical-align: top;\n",
              "    }\n",
              "\n",
              "    .dataframe thead th {\n",
              "        text-align: right;\n",
              "    }\n",
              "</style>\n",
              "<table border=\"1\" class=\"dataframe\">\n",
              "  <thead>\n",
              "    <tr style=\"text-align: right;\">\n",
              "      <th></th>\n",
              "      <th>sim_number</th>\n",
              "      <th>price_pred</th>\n",
              "    </tr>\n",
              "  </thead>\n",
              "  <tbody>\n",
              "    <tr>\n",
              "      <th>count</th>\n",
              "      <td>1.490600e+05</td>\n",
              "      <td>1.490600e+05</td>\n",
              "    </tr>\n",
              "    <tr>\n",
              "      <th>mean</th>\n",
              "      <td>7.293419e+08</td>\n",
              "      <td>1.889852e+06</td>\n",
              "    </tr>\n",
              "    <tr>\n",
              "      <th>std</th>\n",
              "      <td>2.409656e+08</td>\n",
              "      <td>3.801616e+06</td>\n",
              "    </tr>\n",
              "    <tr>\n",
              "      <th>min</th>\n",
              "      <td>3.250059e+08</td>\n",
              "      <td>4.500150e+05</td>\n",
              "    </tr>\n",
              "    <tr>\n",
              "      <th>25%</th>\n",
              "      <td>3.897185e+08</td>\n",
              "      <td>7.986898e+05</td>\n",
              "    </tr>\n",
              "    <tr>\n",
              "      <th>50%</th>\n",
              "      <td>8.298890e+08</td>\n",
              "      <td>9.172300e+05</td>\n",
              "    </tr>\n",
              "    <tr>\n",
              "      <th>75%</th>\n",
              "      <td>9.177405e+08</td>\n",
              "      <td>1.779531e+06</td>\n",
              "    </tr>\n",
              "    <tr>\n",
              "      <th>max</th>\n",
              "      <td>9.980000e+08</td>\n",
              "      <td>9.993066e+07</td>\n",
              "    </tr>\n",
              "  </tbody>\n",
              "</table>\n",
              "</div>\n",
              "      <button class=\"colab-df-convert\" onclick=\"convertToInteractive('df-c980fef1-077b-41de-bb69-f9f0700fccb5')\"\n",
              "              title=\"Convert this dataframe to an interactive table.\"\n",
              "              style=\"display:none;\">\n",
              "        \n",
              "  <svg xmlns=\"http://www.w3.org/2000/svg\" height=\"24px\"viewBox=\"0 0 24 24\"\n",
              "       width=\"24px\">\n",
              "    <path d=\"M0 0h24v24H0V0z\" fill=\"none\"/>\n",
              "    <path d=\"M18.56 5.44l.94 2.06.94-2.06 2.06-.94-2.06-.94-.94-2.06-.94 2.06-2.06.94zm-11 1L8.5 8.5l.94-2.06 2.06-.94-2.06-.94L8.5 2.5l-.94 2.06-2.06.94zm10 10l.94 2.06.94-2.06 2.06-.94-2.06-.94-.94-2.06-.94 2.06-2.06.94z\"/><path d=\"M17.41 7.96l-1.37-1.37c-.4-.4-.92-.59-1.43-.59-.52 0-1.04.2-1.43.59L10.3 9.45l-7.72 7.72c-.78.78-.78 2.05 0 2.83L4 21.41c.39.39.9.59 1.41.59.51 0 1.02-.2 1.41-.59l7.78-7.78 2.81-2.81c.8-.78.8-2.07 0-2.86zM5.41 20L4 18.59l7.72-7.72 1.47 1.35L5.41 20z\"/>\n",
              "  </svg>\n",
              "      </button>\n",
              "      \n",
              "  <style>\n",
              "    .colab-df-container {\n",
              "      display:flex;\n",
              "      flex-wrap:wrap;\n",
              "      gap: 12px;\n",
              "    }\n",
              "\n",
              "    .colab-df-convert {\n",
              "      background-color: #E8F0FE;\n",
              "      border: none;\n",
              "      border-radius: 50%;\n",
              "      cursor: pointer;\n",
              "      display: none;\n",
              "      fill: #1967D2;\n",
              "      height: 32px;\n",
              "      padding: 0 0 0 0;\n",
              "      width: 32px;\n",
              "    }\n",
              "\n",
              "    .colab-df-convert:hover {\n",
              "      background-color: #E2EBFA;\n",
              "      box-shadow: 0px 1px 2px rgba(60, 64, 67, 0.3), 0px 1px 3px 1px rgba(60, 64, 67, 0.15);\n",
              "      fill: #174EA6;\n",
              "    }\n",
              "\n",
              "    [theme=dark] .colab-df-convert {\n",
              "      background-color: #3B4455;\n",
              "      fill: #D2E3FC;\n",
              "    }\n",
              "\n",
              "    [theme=dark] .colab-df-convert:hover {\n",
              "      background-color: #434B5C;\n",
              "      box-shadow: 0px 1px 3px 1px rgba(0, 0, 0, 0.15);\n",
              "      filter: drop-shadow(0px 1px 2px rgba(0, 0, 0, 0.3));\n",
              "      fill: #FFFFFF;\n",
              "    }\n",
              "  </style>\n",
              "\n",
              "      <script>\n",
              "        const buttonEl =\n",
              "          document.querySelector('#df-c980fef1-077b-41de-bb69-f9f0700fccb5 button.colab-df-convert');\n",
              "        buttonEl.style.display =\n",
              "          google.colab.kernel.accessAllowed ? 'block' : 'none';\n",
              "\n",
              "        async function convertToInteractive(key) {\n",
              "          const element = document.querySelector('#df-c980fef1-077b-41de-bb69-f9f0700fccb5');\n",
              "          const dataTable =\n",
              "            await google.colab.kernel.invokeFunction('convertToInteractive',\n",
              "                                                     [key], {});\n",
              "          if (!dataTable) return;\n",
              "\n",
              "          const docLinkHtml = 'Like what you see? Visit the ' +\n",
              "            '<a target=\"_blank\" href=https://colab.research.google.com/notebooks/data_table.ipynb>data table notebook</a>'\n",
              "            + ' to learn more about interactive tables.';\n",
              "          element.innerHTML = '';\n",
              "          dataTable['output_type'] = 'display_data';\n",
              "          await google.colab.output.renderOutput(dataTable, element);\n",
              "          const docLink = document.createElement('div');\n",
              "          docLink.innerHTML = docLinkHtml;\n",
              "          element.appendChild(docLink);\n",
              "        }\n",
              "      </script>\n",
              "    </div>\n",
              "  </div>\n",
              "  "
            ]
          },
          "metadata": {},
          "execution_count": 201
        }
      ]
    },
    {
      "cell_type": "code",
      "source": [
        "result.to_csv(r'/content/drive/MyDrive/Colab Notebooks/result_pred.csv', index=False)"
      ],
      "metadata": {
        "id": "jxk_NJu_Lo5y"
      },
      "execution_count": 202,
      "outputs": []
    },
    {
      "cell_type": "code",
      "source": [
        "result = regressor.predict(np.expand_dims(X[7484], axis=0))\n",
        "print(label_to_price(result))\n",
        "print(X[7484])"
      ],
      "metadata": {
        "colab": {
          "base_uri": "https://localhost:8080/"
        },
        "id": "PD6FIvHtdhh-",
        "outputId": "29c372c0-dae2-43c8-d91a-2d2e99aa3353"
      },
      "execution_count": 198,
      "outputs": [
        {
          "output_type": "stream",
          "name": "stdout",
          "text": [
            "1/1 [==============================] - 0s 28ms/step\n",
            "[1610309]\n",
            "[7 9 9 1 2 0 2 1 5]\n"
          ]
        }
      ]
    },
    {
      "cell_type": "code",
      "source": [
        "\n"
      ],
      "metadata": {
        "id": "Q8hzPgoOdo_N"
      },
      "execution_count": null,
      "outputs": []
    },
    {
      "cell_type": "markdown",
      "source": [],
      "metadata": {
        "id": "GR0wzVa98_u6"
      }
    }
  ]
}